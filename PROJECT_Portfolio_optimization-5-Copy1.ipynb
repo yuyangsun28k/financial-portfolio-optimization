{
 "cells": [
  {
   "cell_type": "markdown",
   "id": "8179c293-e6ad-4f8f-8eb0-604a6d288f6f",
   "metadata": {},
   "source": [
    "# Portfolio Optimization Project, MATH 441\n",
    "$$\\underline{\\text{Dylan Liong, Thomas Sun, Allen Cho}}$$"
   ]
  },
  {
   "cell_type": "markdown",
   "id": "7f1451d4-3efd-4482-a177-03bc1de2f18f",
   "metadata": {},
   "source": [
    "TO DO:\n",
    "* review/improve background information on portfolio optimization, give more context, find history, find historical ways ppl split their portfolio, elaborate on the markowitz model \n",
    "* talk about a more specific type of equity: index fund? mutual fund? hedge fund?\n",
    "* detail more about obj function, constraints\n",
    "* explain what is quadratic programming\n",
    "* explain how QPsolver works\n",
    "* find another solver/ write our program?\n",
    "* help simplify the code that we have, it works but maybe make it more useable, maybe a function\n",
    "* help make a function that generates both returns and geom at the same time\n",
    "* a simple two assets example (using CAN returns) (done)\n",
    "* a simple three assets example (using CAN returns) (done) \n",
    "* a complex three assets example (maybe S&P vs bonds vs cash?)\n",
    "* a complex 10 assets example (10 US stocks?)\n",
    "* a personal example (we use the stocks we personally have, run algorithm on them) "
   ]
  },
  {
   "cell_type": "markdown",
   "id": "ebdda582-d58b-4885-8037-31c1092f3cb1",
   "metadata": {},
   "source": [
    "## Introduction\n",
    "\n",
    "A portfolio is a collection of financial instruments, such as stocks, bonds, cash, commodities, etc. Portfolio managers have one goal in mind: maximizing returns. Diversification (not putting all eggs in the same basket) is a key concept in portfolio management to reduce risks. It aims to maximize returns by investing in different areas that would each react differently to the same event. \n",
    "\n",
    "The most popular portfolio optimization model is the Marry Markowitz model (HM), which assists in the selection of the most efficient portfolio by analyzing various possible portfolios of the given securities. It basically means that we create N amount of portfolios, with different weights assigned to each asset, and the model should determine the set of most efficient portfolios (Efficient Frontier EF). \n",
    "The HM model is called the **mean-variance model** because it is based on expected returns (mean) and standard deviation (variance) of the various portfolios. \n",
    "\n",
    "A **mean-variance optimization (MVO)** problem can be formulated in two ways: \n",
    "\n",
    "* Maximizing return for a given risk\n",
    "* Minimizing risk for a given return\n",
    "\n",
    "Once we have the portfolio efficient frontier, the investor still needs to select the portfolio he/she wants. The decision is based on a set of indifference curves, and we could rationally find the most optimal portfolio. We will provide further explanations during the analysis."
   ]
  },
  {
   "cell_type": "markdown",
   "id": "e6004307-eea6-4ad4-8e98-eecb8c0fc1fc",
   "metadata": {},
   "source": [
    "## Problem Statement\n",
    "\n",
    "**Our goal**: Provide an algorithm, that takes returns of assets, to obtain the efficient portfolio frontier using the MVO model. From the EF, we will provide results analysis and find the optimal portfolio.\n",
    "\n",
    "**Sub-questions**:\n",
    "* what is portfolio optimization?\n",
    "* how does the Markowitz model work?\n",
    "* what are the objective function and constraints?\n",
    "* what data needs to be gathered?\n",
    "* what is the most simple example?\n",
    "* what is Quadratic Programming?"
   ]
  },
  {
   "cell_type": "markdown",
   "id": "02be3553-58b8-481b-a921-919f2fc5043a",
   "metadata": {},
   "source": [
    "## Basic Theory\n",
    "\n",
    "Consider different securities, with random returns. For each security, $i = 1,...,n$ estimates, we have **expected returns $\\mu_{i}$**, **variance $\\sigma_{i}^{2}$**, and **correlation coeffcient $\\rho_{ij}$** for securities $i$ and $j$.\n",
    "We can represent the proportion (weight) of the total funds invested in security $i$ by $x_i$. We can compute the expected return and the variance of the resulting portfolio $x = (x_1,...,x_n)$:\n",
    "* $E[x] = x_1 \\mu_{1} + ... + x_n \\mu_{n} = \\mu^T x$\n",
    "* $Var[x] = \\sum_{i,j} \\rho_{ij} \\sigma_{i} \\sigma_{j} x_i x_j = x^T Qx$ \\\n",
    "where $Q_{ij} = \\rho_{ij} \\sigma_{i} \\sigma_{j}$ and $\\mu = (\\mu_{1},...,\\mu_{n})$, and the portfolio vector $x$ must satisfy $\\sum_{i} x_i = 1$ \n",
    "\n",
    "A feasible portfolio $x$ is called **efficient** if it has (A) the minimum variance among all portfolios that have at least a certain expected return, OR, has (B) the maximal expected return among all portfolios with the same variance. The collection of all efficient portfolios generate the **efficient frontier**."
   ]
  },
  {
   "cell_type": "markdown",
   "id": "c9743c3a-74d1-44be-9599-26a151de9dee",
   "metadata": {},
   "source": [
    "## Data and Computation\n",
    "\n",
    "The formulation above produces a convex quadratic programming problem:\n",
    "\n",
    "* (A) Minimizing Variance\n",
    "$$\n",
    "min_x \\space x^T Qx \\\\ \n",
    "e^T x = 1  \\\\\n",
    "\\mu^{T} x \\geq R \\\\\n",
    "x \\geq 0\n",
    "$$\n",
    "\n",
    "* (B) Maximizing Returns\n",
    "$$\n",
    "max_x \\space \\mu^{T} \\\\\n",
    "e^T x = 1  \\\\\n",
    "x^T Qx \\leq V \\\\\n",
    "x \\geq 0\n",
    "$$\n",
    "\n",
    "For (A):\n",
    "* first constraint: assuring that $\\sum_{i} x_i = 1$ \n",
    "* second constraint: indicates that the expected return is no less than a target value $R$, ranging between $R_{min}$ and $R_{max}$ to obtain all the efficient portfolios.\n",
    "\n",
    "For (B):\n",
    "* first constraint: assuring that $\\sum_{i} x_i = 1$ \n",
    "* second constraint: indicates that the variance has an upper limit V on the portfolio.\n",
    "\n",
    "-> The only set of data that we need is the historal return for asset classes (stocks, bonds, money, etc) to estimate their future expected returns. However, from this set of data we need to compute, for asset $A_i$:\n",
    "* rates of returns\n",
    "* mean rates of returns\n",
    "* variance \n",
    "* covariance\n",
    "* correlation \n",
    "\n",
    "-> For a two-asset portfolio A and B:\n",
    "* portfolio return: $E(R_p)= \\delta E(R_A) + (1 - \\delta) E(R_B) $\n",
    "* portfolio variance: $\\sigma_{p}^2 = \\delta^2 \\sigma_{A}^2 + (1 - \\delta)^2 \\sigma_{B}^2 + 2 \\delta (1-\\delta) \\rho_{AB} \\sigma_{A} \\sigma_{B}$ \\\n",
    "$\\delta$ being the weight on asset A"
   ]
  },
  {
   "cell_type": "markdown",
   "id": "74fd344c-33f6-4b42-b29d-ccf0ac4b248b",
   "metadata": {},
   "source": [
    "## Outline of the project\n",
    "1. background information about optimal portfolio \n",
    "2. data gathering\n",
    "3. building a simple 2-asset optimal portfolio problem, solved manually and numerically\n",
    "4. building a robust 3-asset optimal portfolio problem\n",
    "5. building a robust multi-stock optimal portfolio problem\n",
    "6. interpretation and results \n",
    "7. experimentation with the built algorithm"
   ]
  },
  {
   "cell_type": "markdown",
   "id": "09beb9f4-b1c1-4a59-88a2-cc46e8c4c20a",
   "metadata": {},
   "source": [
    "## Reference"
   ]
  },
  {
   "cell_type": "markdown",
   "id": "8173e80e-6fcb-44ee-9d26-95a0d1d52e49",
   "metadata": {},
   "source": [
    "* https://en.wikipedia.org/wiki/Markowitz_model \n",
    "* https://www.investopedia.com/terms/p/portfolio.asp \n",
    "* https://en.wikipedia.org/wiki/Quadratic_programming \n",
    "* https://vanderbei.princeton.edu/542/lectures/lec17.pdf \n",
    "* Lecture notes from my ECON 490 class"
   ]
  },
  {
   "cell_type": "code",
   "execution_count": 1,
   "id": "c1aaed4a-6fb9-4d63-b4a4-24eaa7dac5ec",
   "metadata": {},
   "outputs": [
    {
     "name": "stdout",
     "output_type": "stream",
     "text": [
      "Requirement already satisfied: qpsolvers[open_source_solvers] in /opt/conda/lib/python3.10/site-packages (2.5.0)\n",
      "Requirement already satisfied: scipy>=1.2.0 in /opt/conda/lib/python3.10/site-packages (from qpsolvers[open_source_solvers]) (1.9.1)\n",
      "Requirement already satisfied: scs>=3.0.1 in /opt/conda/lib/python3.10/site-packages (from qpsolvers[open_source_solvers]) (3.2.2)\n",
      "Requirement already satisfied: cvxpy>=1.1.11 in /opt/conda/lib/python3.10/site-packages (from qpsolvers[open_source_solvers]) (1.2.2)\n",
      "Requirement already satisfied: cvxopt>=1.2.6 in /opt/conda/lib/python3.10/site-packages (from qpsolvers[open_source_solvers]) (1.3.0)\n",
      "Requirement already satisfied: ecos>=2.0.8 in /opt/conda/lib/python3.10/site-packages (from qpsolvers[open_source_solvers]) (2.0.10)\n",
      "Requirement already satisfied: osqp>=0.6.2 in /opt/conda/lib/python3.10/site-packages (from qpsolvers[open_source_solvers]) (0.6.2.post5)\n",
      "Requirement already satisfied: proxsuite>=0.2.2 in /opt/conda/lib/python3.10/site-packages (from qpsolvers[open_source_solvers]) (0.2.5)\n",
      "Requirement already satisfied: numpy>=1.15 in /opt/conda/lib/python3.10/site-packages (from cvxpy>=1.1.11->qpsolvers[open_source_solvers]) (1.22.4)\n",
      "Requirement already satisfied: qdldl in /opt/conda/lib/python3.10/site-packages (from osqp>=0.6.2->qpsolvers[open_source_solvers]) (0.1.5.post2)\n",
      "Requirement already satisfied: cmeel in /opt/conda/lib/python3.10/site-packages (from proxsuite>=0.2.2->qpsolvers[open_source_solvers]) (0.21.0)\n",
      "Requirement already satisfied: tomli<3.0.0,>=2.0.1 in /opt/conda/lib/python3.10/site-packages (from cmeel->proxsuite>=0.2.2->qpsolvers[open_source_solvers]) (2.0.1)\n",
      "Note: you may need to restart the kernel to use updated packages.\n"
     ]
    }
   ],
   "source": [
    "pip install qpsolvers[open_source_solvers]"
   ]
  },
  {
   "cell_type": "code",
   "execution_count": 2,
   "id": "b7bb88b3-f0d3-46e5-88fb-df5ee32aa1b2",
   "metadata": {},
   "outputs": [],
   "source": [
    "import numpy as np\n",
    "import pandas as pd\n",
    "import scipy as sp\n",
    "import math\n",
    "import matplotlib.pyplot as plt\n",
    "from qpsolvers import solve_qp"
   ]
  },
  {
   "cell_type": "code",
   "execution_count": 3,
   "id": "ebfde6f7-7a81-4464-abe3-83ff2cb9765b",
   "metadata": {},
   "outputs": [
    {
     "name": "stdout",
     "output_type": "stream",
     "text": [
      "QP solution: x = [0.00837217 0.9913202 ]\n"
     ]
    },
    {
     "name": "stderr",
     "output_type": "stream",
     "text": [
      "/opt/conda/lib/python3.10/site-packages/qpsolvers/solvers/conversions/warnings.py:35: UserWarning: Converted P to scipy.sparse.csc.csc_matrix\n",
      "For best performance, build P as a scipy.sparse.csc_matrix rather than as a numpy.ndarray\n",
      "  warn(\n",
      "/opt/conda/lib/python3.10/site-packages/qpsolvers/solvers/conversions/warnings.py:35: UserWarning: Converted A to scipy.sparse.csc.csc_matrix\n",
      "For best performance, build A as a scipy.sparse.csc_matrix rather than as a numpy.ndarray\n",
      "  warn(\n"
     ]
    }
   ],
   "source": [
    "R = 0.05\n",
    "P = np.array([[0.031366,0.0011772],[0.0011772,0.0014296]])\n",
    "q = np.array([[0,0],[0,0]])\n",
    "G = np.array([0.036968770, 0.007736639])\n",
    "h = np.array([R])\n",
    "A = np.array([1., 1.])\n",
    "b = np.array([1.])\n",
    "\n",
    "x = solve_qp(P, q, G, h, A, b, solver=\"osqp\")\n",
    "print(\"QP solution: x = {}\".format(x))"
   ]
  },
  {
   "cell_type": "code",
   "execution_count": 4,
   "id": "54c60665-f68b-42e8-a41f-8f9d4be6ae3a",
   "metadata": {},
   "outputs": [
    {
     "name": "stdout",
     "output_type": "stream",
     "text": [
      "QP solution: x = [0.93 0.07 0.  ]\n"
     ]
    }
   ],
   "source": [
    "P = np.array([[0.02778,0.00387,0.00021],\n",
    "              [0.00387,0.01112,-0.00020],\n",
    "              [0.00021,-0.00020,0.00115]])\n",
    "q = np.array([[0,0,0],[0,0,0],[0,0,0]])\n",
    "G = np.array([0.1073,0.0737,0.0627])\n",
    "h = np.array([0.105])\n",
    "A = np.array([1.,1.,1.])\n",
    "b = np.array([1.])\n",
    "lb = np.array([0.,0.,0.])\n",
    "x = (solve_qp(P, q, -G, -h, A, b, lb, solver=\"osqp\").round(2))\n",
    "print(\"QP solution: x = {}\".format(x))"
   ]
  },
  {
   "cell_type": "code",
   "execution_count": 5,
   "id": "82c92d12-fef4-4bb0-8963-7a75e070a1d0",
   "metadata": {},
   "outputs": [
    {
     "name": "stdout",
     "output_type": "stream",
     "text": [
      "[[ 0.02  0.15  0.82]\n",
      " [ 0.13  0.15  0.72]\n",
      " [ 0.23  0.17  0.6 ]\n",
      " [ 0.34  0.18  0.48]\n",
      " [ 0.45  0.19  0.35]\n",
      " [ 0.57  0.2   0.23]\n",
      " [ 0.69  0.2   0.11]\n",
      " [ 0.78  0.22 -0.  ]\n",
      " [ 0.93  0.07  0.  ]]\n"
     ]
    }
   ],
   "source": [
    "z = []\n",
    "for R in np.arange(0.065,0.110,0.005):\n",
    "    P = np.array([[0.02778,0.00387,0.00021],\n",
    "              [0.00387,0.01112,-0.00020],\n",
    "              [0.00021,-0.00020,0.00115]])\n",
    "    q = np.array([[0,0,0],[0,0,0],[0,0,0]])\n",
    "    G = np.array([0.1073,0.0737,0.0627])\n",
    "    h = np.array([R])\n",
    "    A = np.array([1.,1.,1.])\n",
    "    b = np.array([1.])\n",
    "    lb = np.array([0.,0.,0.])\n",
    "    x = (solve_qp(P, q, -G, -h, A, b, lb, solver=\"osqp\").round(2))\n",
    "    z.append(x)\n",
    "    #print(\"QP solution: x = {}\".format(x))\n",
    "q = np.array(z)\n",
    "print(q)"
   ]
  },
  {
   "cell_type": "code",
   "execution_count": 6,
   "id": "7c58b992-045a-4c97-8402-07b14194c4e7",
   "metadata": {},
   "outputs": [
    {
     "name": "stdout",
     "output_type": "stream",
     "text": [
      "QP solution: x = [0.99 0.01]\n",
      "QP solution: x = [0.88 0.12]\n",
      "QP solution: x = [0.77 0.23]\n",
      "QP solution: x = [0.66 0.34]\n",
      "QP solution: x = [0.55 0.45]\n",
      "QP solution: x = [0.45 0.55]\n",
      "QP solution: x = [0.34 0.66]\n",
      "QP solution: x = [0.23 0.77]\n",
      "QP solution: x = [0.12 0.88]\n"
     ]
    }
   ],
   "source": [
    "for R in np.arange(-0.030,0.015,0.005):\n",
    "    P = np.array([[0.003207,0.005219],\n",
    "                  [0.005219,0.075775]])\n",
    "    q = np.array([[0,0],[0,0]])\n",
    "    G = np.array([-0.030628,0.01569])\n",
    "    h = np.array([R])\n",
    "    A = np.array([1.,1.])\n",
    "    b = np.array([1.])\n",
    "    lb = np.array([0.,0.])\n",
    "    x = (solve_qp(P, q, -G, -h, A, b, lb, solver=\"osqp\").round(2))\n",
    "    print(\"QP solution: x = {}\".format(x))"
   ]
  },
  {
   "cell_type": "markdown",
   "id": "d39790f8-9a8a-47cb-9e85-f1f13e3ca456",
   "metadata": {},
   "source": [
    "------"
   ]
  },
  {
   "cell_type": "markdown",
   "id": "a4af9992-58e0-4b55-aed4-f9dbac1f5e79",
   "metadata": {},
   "source": [
    "Trying to replicate the results from R"
   ]
  },
  {
   "cell_type": "code",
   "execution_count": 7,
   "id": "e5f8d3e0-e282-475f-97c9-ec402ccb7437",
   "metadata": {},
   "outputs": [],
   "source": [
    "df1 = pd.read_csv('textbook.csv')"
   ]
  },
  {
   "cell_type": "code",
   "execution_count": 8,
   "id": "8db53528-d2c8-4281-b747-02911d61c529",
   "metadata": {},
   "outputs": [],
   "source": [
    "df1 = df1[['stocks', 'bonds', 'MM']]"
   ]
  },
  {
   "cell_type": "code",
   "execution_count": 9,
   "id": "9518dfff-7a64-4966-ac69-d61b60523776",
   "metadata": {},
   "outputs": [],
   "source": [
    "df1 = df1.div(100)"
   ]
  },
  {
   "cell_type": "code",
   "execution_count": 10,
   "id": "18493238-08f2-43db-909a-855431b7872c",
   "metadata": {},
   "outputs": [
    {
     "data": {
      "text/html": [
       "<div>\n",
       "<style scoped>\n",
       "    .dataframe tbody tr th:only-of-type {\n",
       "        vertical-align: middle;\n",
       "    }\n",
       "\n",
       "    .dataframe tbody tr th {\n",
       "        vertical-align: top;\n",
       "    }\n",
       "\n",
       "    .dataframe thead th {\n",
       "        text-align: right;\n",
       "    }\n",
       "</style>\n",
       "<table border=\"1\" class=\"dataframe\">\n",
       "  <thead>\n",
       "    <tr style=\"text-align: right;\">\n",
       "      <th></th>\n",
       "      <th>stocks</th>\n",
       "      <th>bonds</th>\n",
       "      <th>MM</th>\n",
       "    </tr>\n",
       "  </thead>\n",
       "  <tbody>\n",
       "    <tr>\n",
       "      <th>0</th>\n",
       "      <td>0.2681</td>\n",
       "      <td>0.0220</td>\n",
       "      <td>0.0233</td>\n",
       "    </tr>\n",
       "    <tr>\n",
       "      <th>1</th>\n",
       "      <td>-0.0878</td>\n",
       "      <td>0.0572</td>\n",
       "      <td>0.0293</td>\n",
       "    </tr>\n",
       "    <tr>\n",
       "      <th>2</th>\n",
       "      <td>0.2269</td>\n",
       "      <td>0.0179</td>\n",
       "      <td>0.0338</td>\n",
       "    </tr>\n",
       "    <tr>\n",
       "      <th>3</th>\n",
       "      <td>0.1636</td>\n",
       "      <td>0.0371</td>\n",
       "      <td>0.0385</td>\n",
       "    </tr>\n",
       "    <tr>\n",
       "      <th>4</th>\n",
       "      <td>0.1236</td>\n",
       "      <td>0.0093</td>\n",
       "      <td>0.0432</td>\n",
       "    </tr>\n",
       "    <tr>\n",
       "      <th>5</th>\n",
       "      <td>-0.1010</td>\n",
       "      <td>0.0512</td>\n",
       "      <td>0.0540</td>\n",
       "    </tr>\n",
       "    <tr>\n",
       "      <th>6</th>\n",
       "      <td>0.2394</td>\n",
       "      <td>-0.0286</td>\n",
       "      <td>0.0451</td>\n",
       "    </tr>\n",
       "    <tr>\n",
       "      <th>7</th>\n",
       "      <td>0.1100</td>\n",
       "      <td>0.0225</td>\n",
       "      <td>0.0602</td>\n",
       "    </tr>\n",
       "    <tr>\n",
       "      <th>8</th>\n",
       "      <td>-0.0847</td>\n",
       "      <td>-0.0563</td>\n",
       "      <td>0.0897</td>\n",
       "    </tr>\n",
       "    <tr>\n",
       "      <th>9</th>\n",
       "      <td>0.0394</td>\n",
       "      <td>0.1892</td>\n",
       "      <td>0.0490</td>\n",
       "    </tr>\n",
       "    <tr>\n",
       "      <th>10</th>\n",
       "      <td>0.1430</td>\n",
       "      <td>0.1124</td>\n",
       "      <td>0.0414</td>\n",
       "    </tr>\n",
       "    <tr>\n",
       "      <th>11</th>\n",
       "      <td>0.1899</td>\n",
       "      <td>0.0239</td>\n",
       "      <td>0.0533</td>\n",
       "    </tr>\n",
       "    <tr>\n",
       "      <th>12</th>\n",
       "      <td>-0.1469</td>\n",
       "      <td>0.0329</td>\n",
       "      <td>0.0995</td>\n",
       "    </tr>\n",
       "    <tr>\n",
       "      <th>13</th>\n",
       "      <td>-0.2647</td>\n",
       "      <td>0.0400</td>\n",
       "      <td>0.0853</td>\n",
       "    </tr>\n",
       "    <tr>\n",
       "      <th>14</th>\n",
       "      <td>0.3723</td>\n",
       "      <td>0.0552</td>\n",
       "      <td>0.0520</td>\n",
       "    </tr>\n",
       "    <tr>\n",
       "      <th>15</th>\n",
       "      <td>0.2393</td>\n",
       "      <td>0.1556</td>\n",
       "      <td>0.0465</td>\n",
       "    </tr>\n",
       "    <tr>\n",
       "      <th>16</th>\n",
       "      <td>-0.0716</td>\n",
       "      <td>0.0038</td>\n",
       "      <td>0.0656</td>\n",
       "    </tr>\n",
       "    <tr>\n",
       "      <th>17</th>\n",
       "      <td>0.0657</td>\n",
       "      <td>-0.0126</td>\n",
       "      <td>0.1003</td>\n",
       "    </tr>\n",
       "    <tr>\n",
       "      <th>18</th>\n",
       "      <td>0.1861</td>\n",
       "      <td>-0.0126</td>\n",
       "      <td>0.1378</td>\n",
       "    </tr>\n",
       "    <tr>\n",
       "      <th>19</th>\n",
       "      <td>0.3250</td>\n",
       "      <td>-0.0248</td>\n",
       "      <td>0.1890</td>\n",
       "    </tr>\n",
       "    <tr>\n",
       "      <th>20</th>\n",
       "      <td>-0.0492</td>\n",
       "      <td>0.0404</td>\n",
       "      <td>0.1237</td>\n",
       "    </tr>\n",
       "    <tr>\n",
       "      <th>21</th>\n",
       "      <td>0.2155</td>\n",
       "      <td>0.4428</td>\n",
       "      <td>0.0895</td>\n",
       "    </tr>\n",
       "    <tr>\n",
       "      <th>22</th>\n",
       "      <td>0.2256</td>\n",
       "      <td>0.0129</td>\n",
       "      <td>0.0947</td>\n",
       "    </tr>\n",
       "    <tr>\n",
       "      <th>23</th>\n",
       "      <td>0.0627</td>\n",
       "      <td>0.1529</td>\n",
       "      <td>0.0838</td>\n",
       "    </tr>\n",
       "    <tr>\n",
       "      <th>24</th>\n",
       "      <td>0.3117</td>\n",
       "      <td>0.3227</td>\n",
       "      <td>0.0827</td>\n",
       "    </tr>\n",
       "    <tr>\n",
       "      <th>25</th>\n",
       "      <td>0.1867</td>\n",
       "      <td>0.2239</td>\n",
       "      <td>0.0691</td>\n",
       "    </tr>\n",
       "    <tr>\n",
       "      <th>26</th>\n",
       "      <td>0.0525</td>\n",
       "      <td>-0.0303</td>\n",
       "      <td>0.0677</td>\n",
       "    </tr>\n",
       "    <tr>\n",
       "      <th>27</th>\n",
       "      <td>0.1661</td>\n",
       "      <td>0.0684</td>\n",
       "      <td>0.0876</td>\n",
       "    </tr>\n",
       "    <tr>\n",
       "      <th>28</th>\n",
       "      <td>0.3169</td>\n",
       "      <td>0.1854</td>\n",
       "      <td>0.0845</td>\n",
       "    </tr>\n",
       "    <tr>\n",
       "      <th>29</th>\n",
       "      <td>-0.0310</td>\n",
       "      <td>0.0774</td>\n",
       "      <td>0.0731</td>\n",
       "    </tr>\n",
       "    <tr>\n",
       "      <th>30</th>\n",
       "      <td>0.3046</td>\n",
       "      <td>0.1936</td>\n",
       "      <td>0.0443</td>\n",
       "    </tr>\n",
       "    <tr>\n",
       "      <th>31</th>\n",
       "      <td>0.0762</td>\n",
       "      <td>0.0734</td>\n",
       "      <td>0.0292</td>\n",
       "    </tr>\n",
       "    <tr>\n",
       "      <th>32</th>\n",
       "      <td>0.1008</td>\n",
       "      <td>0.1306</td>\n",
       "      <td>0.0296</td>\n",
       "    </tr>\n",
       "    <tr>\n",
       "      <th>33</th>\n",
       "      <td>0.0132</td>\n",
       "      <td>-0.0732</td>\n",
       "      <td>0.0545</td>\n",
       "    </tr>\n",
       "    <tr>\n",
       "      <th>34</th>\n",
       "      <td>0.3758</td>\n",
       "      <td>0.2594</td>\n",
       "      <td>0.0560</td>\n",
       "    </tr>\n",
       "    <tr>\n",
       "      <th>35</th>\n",
       "      <td>0.2296</td>\n",
       "      <td>0.0013</td>\n",
       "      <td>0.0529</td>\n",
       "    </tr>\n",
       "    <tr>\n",
       "      <th>36</th>\n",
       "      <td>0.3336</td>\n",
       "      <td>0.1202</td>\n",
       "      <td>0.0550</td>\n",
       "    </tr>\n",
       "    <tr>\n",
       "      <th>37</th>\n",
       "      <td>0.2858</td>\n",
       "      <td>0.1445</td>\n",
       "      <td>0.0468</td>\n",
       "    </tr>\n",
       "    <tr>\n",
       "      <th>38</th>\n",
       "      <td>0.2104</td>\n",
       "      <td>-0.0751</td>\n",
       "      <td>0.0530</td>\n",
       "    </tr>\n",
       "    <tr>\n",
       "      <th>39</th>\n",
       "      <td>-0.0910</td>\n",
       "      <td>0.1722</td>\n",
       "      <td>0.0640</td>\n",
       "    </tr>\n",
       "    <tr>\n",
       "      <th>40</th>\n",
       "      <td>-0.1189</td>\n",
       "      <td>0.0551</td>\n",
       "      <td>0.0182</td>\n",
       "    </tr>\n",
       "    <tr>\n",
       "      <th>41</th>\n",
       "      <td>-0.2210</td>\n",
       "      <td>0.1515</td>\n",
       "      <td>0.0124</td>\n",
       "    </tr>\n",
       "    <tr>\n",
       "      <th>42</th>\n",
       "      <td>0.2868</td>\n",
       "      <td>0.0054</td>\n",
       "      <td>0.0098</td>\n",
       "    </tr>\n",
       "  </tbody>\n",
       "</table>\n",
       "</div>"
      ],
      "text/plain": [
       "    stocks   bonds      MM\n",
       "0   0.2681  0.0220  0.0233\n",
       "1  -0.0878  0.0572  0.0293\n",
       "2   0.2269  0.0179  0.0338\n",
       "3   0.1636  0.0371  0.0385\n",
       "4   0.1236  0.0093  0.0432\n",
       "5  -0.1010  0.0512  0.0540\n",
       "6   0.2394 -0.0286  0.0451\n",
       "7   0.1100  0.0225  0.0602\n",
       "8  -0.0847 -0.0563  0.0897\n",
       "9   0.0394  0.1892  0.0490\n",
       "10  0.1430  0.1124  0.0414\n",
       "11  0.1899  0.0239  0.0533\n",
       "12 -0.1469  0.0329  0.0995\n",
       "13 -0.2647  0.0400  0.0853\n",
       "14  0.3723  0.0552  0.0520\n",
       "15  0.2393  0.1556  0.0465\n",
       "16 -0.0716  0.0038  0.0656\n",
       "17  0.0657 -0.0126  0.1003\n",
       "18  0.1861 -0.0126  0.1378\n",
       "19  0.3250 -0.0248  0.1890\n",
       "20 -0.0492  0.0404  0.1237\n",
       "21  0.2155  0.4428  0.0895\n",
       "22  0.2256  0.0129  0.0947\n",
       "23  0.0627  0.1529  0.0838\n",
       "24  0.3117  0.3227  0.0827\n",
       "25  0.1867  0.2239  0.0691\n",
       "26  0.0525 -0.0303  0.0677\n",
       "27  0.1661  0.0684  0.0876\n",
       "28  0.3169  0.1854  0.0845\n",
       "29 -0.0310  0.0774  0.0731\n",
       "30  0.3046  0.1936  0.0443\n",
       "31  0.0762  0.0734  0.0292\n",
       "32  0.1008  0.1306  0.0296\n",
       "33  0.0132 -0.0732  0.0545\n",
       "34  0.3758  0.2594  0.0560\n",
       "35  0.2296  0.0013  0.0529\n",
       "36  0.3336  0.1202  0.0550\n",
       "37  0.2858  0.1445  0.0468\n",
       "38  0.2104 -0.0751  0.0530\n",
       "39 -0.0910  0.1722  0.0640\n",
       "40 -0.1189  0.0551  0.0182\n",
       "41 -0.2210  0.1515  0.0124\n",
       "42  0.2868  0.0054  0.0098"
      ]
     },
     "execution_count": 10,
     "metadata": {},
     "output_type": "execute_result"
    }
   ],
   "source": [
    "df1"
   ]
  },
  {
   "cell_type": "code",
   "execution_count": 11,
   "id": "6f6aad29-51d7-4bec-9fa7-0667988803bb",
   "metadata": {},
   "outputs": [
    {
     "data": {
      "text/plain": [
       "stocks    0.02839\n",
       "bonds     0.01148\n",
       "MM        0.00118\n",
       "dtype: float64"
      ]
     },
     "execution_count": 11,
     "metadata": {},
     "output_type": "execute_result"
    }
   ],
   "source": [
    "variance = df1.iloc[:,0:3].var()\n",
    "round(variance,5)"
   ]
  },
  {
   "cell_type": "code",
   "execution_count": 12,
   "id": "e60c73c9-1988-406d-8eb6-a3362ecd2df3",
   "metadata": {},
   "outputs": [
    {
     "data": {
      "text/html": [
       "<div>\n",
       "<style scoped>\n",
       "    .dataframe tbody tr th:only-of-type {\n",
       "        vertical-align: middle;\n",
       "    }\n",
       "\n",
       "    .dataframe tbody tr th {\n",
       "        vertical-align: top;\n",
       "    }\n",
       "\n",
       "    .dataframe thead th {\n",
       "        text-align: right;\n",
       "    }\n",
       "</style>\n",
       "<table border=\"1\" class=\"dataframe\">\n",
       "  <thead>\n",
       "    <tr style=\"text-align: right;\">\n",
       "      <th></th>\n",
       "      <th>stocks</th>\n",
       "      <th>bonds</th>\n",
       "      <th>MM</th>\n",
       "    </tr>\n",
       "  </thead>\n",
       "  <tbody>\n",
       "    <tr>\n",
       "      <th>stocks</th>\n",
       "      <td>0.02839</td>\n",
       "      <td>0.00389</td>\n",
       "      <td>0.00021</td>\n",
       "    </tr>\n",
       "    <tr>\n",
       "      <th>bonds</th>\n",
       "      <td>0.00389</td>\n",
       "      <td>0.01148</td>\n",
       "      <td>-0.00024</td>\n",
       "    </tr>\n",
       "    <tr>\n",
       "      <th>MM</th>\n",
       "      <td>0.00021</td>\n",
       "      <td>-0.00024</td>\n",
       "      <td>0.00118</td>\n",
       "    </tr>\n",
       "  </tbody>\n",
       "</table>\n",
       "</div>"
      ],
      "text/plain": [
       "         stocks    bonds       MM\n",
       "stocks  0.02839  0.00389  0.00021\n",
       "bonds   0.00389  0.01148 -0.00024\n",
       "MM      0.00021 -0.00024  0.00118"
      ]
     },
     "execution_count": 12,
     "metadata": {},
     "output_type": "execute_result"
    }
   ],
   "source": [
    "covariance = df1.iloc[:,0:3].cov()\n",
    "round(covariance,5)"
   ]
  },
  {
   "cell_type": "code",
   "execution_count": 13,
   "id": "c1b365ed-5be6-4be4-9bfe-a96a834e6b29",
   "metadata": {},
   "outputs": [],
   "source": [
    "stocks = df1['stocks']\n",
    "bonds = df1['bonds']\n",
    "MM = df1['MM']"
   ]
  },
  {
   "cell_type": "code",
   "execution_count": 14,
   "id": "1ffbb35d-632e-4e5d-b615-6f015944bb93",
   "metadata": {},
   "outputs": [],
   "source": [
    "var_stocks = stocks.var()\n",
    "var_bonds = bonds.var()\n",
    "var_MM = MM.var()\n",
    "\n",
    "cor_stocks_bonds = (stocks.corr(bonds))\n",
    "cor_stocks_MM = (stocks.corr(MM))\n",
    "cor_bonds_MM = (bonds.corr(MM))"
   ]
  },
  {
   "cell_type": "code",
   "execution_count": 15,
   "id": "ef1e1afe-f818-4cb5-9875-eb8ea4f79672",
   "metadata": {},
   "outputs": [],
   "source": [
    "#for(i in 1:43) {       \n",
    "#  geom_mean1 = ((1+stocks[i]/100)*geom_mean1)\n",
    "#  lols1 = abs(geom_mean1)^(1/43) -1 "
   ]
  },
  {
   "cell_type": "code",
   "execution_count": 16,
   "id": "ee331644-bcbf-47ee-b2bf-a082b630d520",
   "metadata": {},
   "outputs": [],
   "source": [
    "geom_mean1 = 1\n",
    "geom_mean2 = 1\n",
    "geom_mean3 = 1\n",
    "\n",
    "for i in range(0,43):\n",
    "    geom_mean1 = ((1+stocks[i])*geom_mean1)\n",
    "    lols1 = (abs(geom_mean1)**(1/43) -1)*100\n",
    "    \n",
    "for i in range(0,43):\n",
    "    geom_mean2 = ((1+bonds[i])*geom_mean2)\n",
    "    lols2 = (abs(geom_mean2)**(1/43) -1)*100\n",
    "    \n",
    "for i in range(0,43):\n",
    "    geom_mean3 = ((1+MM[i])*geom_mean3)\n",
    "    lols3 = (abs(geom_mean3)**(1/43) -1)*100"
   ]
  },
  {
   "cell_type": "code",
   "execution_count": 17,
   "id": "4a7ddd41-bb31-467f-a0c3-fe3ac5f80057",
   "metadata": {},
   "outputs": [
    {
     "name": "stdout",
     "output_type": "stream",
     "text": [
      "10.72126 7.30468 6.27013\n"
     ]
    }
   ],
   "source": [
    "print(round(lols1,5),\n",
    "      round(lols2,5),\n",
    "      round(lols3,5))"
   ]
  },
  {
   "cell_type": "code",
   "execution_count": 18,
   "id": "4b7e292b-8acb-40ab-b8d7-b7692c2ab90e",
   "metadata": {},
   "outputs": [],
   "source": [
    "var_r0065 = (0.03**2 * var_stocks + 0.10**2 * var_bonds + 0.87**2 * var_MM \n",
    "                + 2*0.03*0.10*cor_stocks_bonds*math.sqrt(var_stocks)*math.sqrt(var_bonds) \n",
    "                + 2*0.03*0.87*cor_stocks_MM*math.sqrt(var_stocks)*math.sqrt(var_MM) \n",
    "                + 2*0.10*0.87*cor_bonds_MM*math.sqrt(var_bonds)*math.sqrt(var_MM))\n",
    "\n",
    "var_r0070 = (0.13**2 * var_stocks + 0.12**2 * var_bonds + 0.75**2 * var_MM \n",
    "                + 2*0.13*0.12*cor_stocks_bonds*math.sqrt(var_stocks)*math.sqrt(var_bonds) \n",
    "                + 2*0.13*0.75*cor_stocks_MM*math.sqrt(var_stocks)*math.sqrt(var_MM) \n",
    "                + 2*0.12*0.75*cor_bonds_MM*math.sqrt(var_bonds)*math.sqrt(var_MM))\n",
    "\n",
    "var_r0075 = (0.24**2 * var_stocks + 0.14**2 * var_bonds + 0.62**2 * var_MM \n",
    "                + 2*0.24*0.14*cor_stocks_bonds*math.sqrt(var_stocks)*math.sqrt(var_bonds) \n",
    "                + 2*0.24*0.62*cor_stocks_MM*math.sqrt(var_stocks)*math.sqrt(var_MM) \n",
    "                + 2*0.14*0.62*cor_bonds_MM*math.sqrt(var_bonds)*math.sqrt(var_MM))\n",
    "\n",
    "var_r0080 = (0.35**2 * var_stocks + 0.16**2 * var_bonds + 0.49**2 * var_MM \n",
    "                + 2*0.35*0.16*cor_stocks_bonds*math.sqrt(var_stocks)*math.sqrt(var_bonds) \n",
    "                + 2*0.35*0.49*cor_stocks_MM*math.sqrt(var_stocks)*math.sqrt(var_MM) \n",
    "                + 2*0.16*0.49*cor_bonds_MM*math.sqrt(var_bonds)*math.sqrt(var_MM))\n",
    "\n",
    "var_r0085 = (0.45**2 * var_stocks + 0.18**2 * var_bonds + 0.37**2 * var_MM \n",
    "                + 2*0.45*0.18*cor_stocks_bonds*math.sqrt(var_stocks)*math.sqrt(var_bonds) \n",
    "                + 2*0.45*0.37*cor_stocks_MM*math.sqrt(var_stocks)*math.sqrt(var_MM) \n",
    "                + 2*0.18*0.37*cor_bonds_MM*math.sqrt(var_bonds)*math.sqrt(var_MM))\n",
    "\n",
    "var_r0090 = (0.56**2 * var_stocks + 0.20**2 * var_bonds + 0.24**2 * var_MM \n",
    "                + 2*0.56*0.20*cor_stocks_bonds*math.sqrt(var_stocks)*math.sqrt(var_bonds) \n",
    "                + 2*0.56*0.24*cor_stocks_MM*math.sqrt(var_stocks)*math.sqrt(var_MM) \n",
    "                + 2*0.20*0.24*cor_bonds_MM*math.sqrt(var_bonds)*math.sqrt(var_MM))\n",
    "\n",
    "var_r0095 = (0.67**2 * var_stocks + 0.22**2 * var_bonds + 0.11**2 * var_MM \n",
    "                + 2*0.67*0.22*cor_stocks_bonds*math.sqrt(var_stocks)*math.sqrt(var_bonds) \n",
    "                + 2*0.67*0.11*cor_stocks_MM*math.sqrt(var_stocks)*math.sqrt(var_MM) \n",
    "                + 2*0.22*0.11*cor_bonds_MM*math.sqrt(var_bonds)*math.sqrt(var_MM))\n",
    "\n",
    "var_r0100 = (0.78**2 * var_stocks + 0.22**2 * var_bonds + 0**2 * var_MM \n",
    "                + 2*0.78*0.22*cor_stocks_bonds*math.sqrt(var_stocks)*math.sqrt(var_bonds) \n",
    "                + 2*0.78*0*cor_stocks_MM*math.sqrt(var_stocks)*math.sqrt(var_MM) \n",
    "                + 2*0.22*0*cor_bonds_MM*math.sqrt(var_bonds)*math.sqrt(var_MM))\n",
    "\n",
    "var_r0105 = (0.93**2 * var_stocks + 0.07**2 * var_bonds + 0**2 * var_MM \n",
    "                + 2*0.93*0.07*cor_stocks_bonds*math.sqrt(var_stocks)*math.sqrt(var_bonds) \n",
    "                + 2*0.93*0*cor_stocks_MM*math.sqrt(var_stocks)*math.sqrt(var_MM) \n",
    "                + 2*0.07*0*cor_bonds_MM*math.sqrt(var_bonds)*math.sqrt(var_MM))"
   ]
  },
  {
   "cell_type": "code",
   "execution_count": 19,
   "id": "7e80186a-b1b9-4111-a74f-be6147bc979e",
   "metadata": {},
   "outputs": [
    {
     "data": {
      "text/plain": [
       "array([0.001026, 0.001428, 0.002595, 0.004524, 0.00695 , 0.010334,\n",
       "       0.014479, 0.019163, 0.025118])"
      ]
     },
     "execution_count": 19,
     "metadata": {},
     "output_type": "execute_result"
    }
   ],
   "source": [
    "variances = np.array([round(var_r0065,6),round(var_r0070,6),round(var_r0075,6),\n",
    "                      round(var_r0080,6),round(var_r0085,6),round(var_r0090,6),\n",
    "                      round(var_r0095,6),round(var_r0100,6),round(var_r0105,6)])\n",
    "variances"
   ]
  },
  {
   "cell_type": "code",
   "execution_count": 20,
   "id": "74f27b91-fba1-47b0-9c6e-4c4ee6e30ec1",
   "metadata": {},
   "outputs": [
    {
     "data": {
      "text/plain": [
       "array([0.065, 0.07 , 0.075, 0.08 , 0.085, 0.09 , 0.095, 0.1  , 0.105])"
      ]
     },
     "execution_count": 20,
     "metadata": {},
     "output_type": "execute_result"
    }
   ],
   "source": [
    "returns = np.array([0.065,0.070,0.075,0.080,0.085,0.090,0.095,0.1,0.105])\n",
    "returns"
   ]
  },
  {
   "cell_type": "code",
   "execution_count": 21,
   "id": "9fe450d4-0d90-4d49-82ba-5380e9dbb449",
   "metadata": {},
   "outputs": [
    {
     "data": {
      "image/png": "[encoded data removed]",
      "text/plain": [
       "<Figure size 640x480 with 1 Axes>"
      ]
     },
     "metadata": {},
     "output_type": "display_data"
    }
   ],
   "source": [
    "t = variances\n",
    "s = returns\n",
    "\n",
    "fig, ax = plt.subplots()\n",
    "ax.plot(t, s, marker='.')\n",
    "\n",
    "ax.set(xlabel='variances', ylabel='returns',\n",
    "       title='minimizing variance for given return')\n",
    "ax.grid()\n",
    "\n",
    "fig.savefig(\"test.png\")\n",
    "plt.show()"
   ]
  },
  {
   "cell_type": "code",
   "execution_count": 22,
   "id": "23053135-f6ea-4a8a-ac2f-5403b0398e68",
   "metadata": {},
   "outputs": [
    {
     "data": {
      "text/html": [
       "<div>\n",
       "<style scoped>\n",
       "    .dataframe tbody tr th:only-of-type {\n",
       "        vertical-align: middle;\n",
       "    }\n",
       "\n",
       "    .dataframe tbody tr th {\n",
       "        vertical-align: top;\n",
       "    }\n",
       "\n",
       "    .dataframe thead th {\n",
       "        text-align: right;\n",
       "    }\n",
       "</style>\n",
       "<table border=\"1\" class=\"dataframe\">\n",
       "  <thead>\n",
       "    <tr style=\"text-align: right;\">\n",
       "      <th></th>\n",
       "      <th>Returns</th>\n",
       "      <th>Variances</th>\n",
       "      <th>Weight</th>\n",
       "    </tr>\n",
       "  </thead>\n",
       "  <tbody>\n",
       "    <tr>\n",
       "      <th>0</th>\n",
       "      <td>0.065</td>\n",
       "      <td>0.001026</td>\n",
       "      <td>[0.02, 0.15, 0.82]</td>\n",
       "    </tr>\n",
       "    <tr>\n",
       "      <th>1</th>\n",
       "      <td>0.070</td>\n",
       "      <td>0.001428</td>\n",
       "      <td>[0.13, 0.15, 0.72]</td>\n",
       "    </tr>\n",
       "    <tr>\n",
       "      <th>2</th>\n",
       "      <td>0.075</td>\n",
       "      <td>0.002595</td>\n",
       "      <td>[0.23, 0.17, 0.6]</td>\n",
       "    </tr>\n",
       "    <tr>\n",
       "      <th>3</th>\n",
       "      <td>0.080</td>\n",
       "      <td>0.004524</td>\n",
       "      <td>[0.34, 0.18, 0.48]</td>\n",
       "    </tr>\n",
       "    <tr>\n",
       "      <th>4</th>\n",
       "      <td>0.085</td>\n",
       "      <td>0.006950</td>\n",
       "      <td>[0.45, 0.19, 0.35]</td>\n",
       "    </tr>\n",
       "    <tr>\n",
       "      <th>5</th>\n",
       "      <td>0.090</td>\n",
       "      <td>0.010334</td>\n",
       "      <td>[0.57, 0.2, 0.23]</td>\n",
       "    </tr>\n",
       "    <tr>\n",
       "      <th>6</th>\n",
       "      <td>0.095</td>\n",
       "      <td>0.014479</td>\n",
       "      <td>[0.69, 0.2, 0.11]</td>\n",
       "    </tr>\n",
       "    <tr>\n",
       "      <th>7</th>\n",
       "      <td>0.100</td>\n",
       "      <td>0.019163</td>\n",
       "      <td>[0.78, 0.22, -0.0]</td>\n",
       "    </tr>\n",
       "    <tr>\n",
       "      <th>8</th>\n",
       "      <td>0.105</td>\n",
       "      <td>0.025118</td>\n",
       "      <td>[0.93, 0.07, 0.0]</td>\n",
       "    </tr>\n",
       "  </tbody>\n",
       "</table>\n",
       "</div>"
      ],
      "text/plain": [
       "   Returns  Variances              Weight\n",
       "0    0.065   0.001026  [0.02, 0.15, 0.82]\n",
       "1    0.070   0.001428  [0.13, 0.15, 0.72]\n",
       "2    0.075   0.002595   [0.23, 0.17, 0.6]\n",
       "3    0.080   0.004524  [0.34, 0.18, 0.48]\n",
       "4    0.085   0.006950  [0.45, 0.19, 0.35]\n",
       "5    0.090   0.010334   [0.57, 0.2, 0.23]\n",
       "6    0.095   0.014479   [0.69, 0.2, 0.11]\n",
       "7    0.100   0.019163  [0.78, 0.22, -0.0]\n",
       "8    0.105   0.025118   [0.93, 0.07, 0.0]"
      ]
     },
     "execution_count": 22,
     "metadata": {},
     "output_type": "execute_result"
    }
   ],
   "source": [
    "df_results = {'Returns': returns, 'Variances': variances, 'Weight': z}\n",
    "pd.DataFrame(df_results)"
   ]
  },
  {
   "cell_type": "code",
   "execution_count": 23,
   "id": "9b1ca0a4-16a2-4f42-a5db-30f9757d2dd3",
   "metadata": {},
   "outputs": [],
   "source": [
    "q = np.array(z)"
   ]
  },
  {
   "cell_type": "code",
   "execution_count": 24,
   "id": "0f7c6d5a-e6d4-47d4-891b-9fc069108909",
   "metadata": {},
   "outputs": [
    {
     "data": {
      "text/plain": [
       "array([0.02, 0.13, 0.23, 0.34, 0.45, 0.57, 0.69, 0.78, 0.93])"
      ]
     },
     "execution_count": 24,
     "metadata": {},
     "output_type": "execute_result"
    }
   ],
   "source": [
    "q[:,0]"
   ]
  },
  {
   "cell_type": "code",
   "execution_count": 25,
   "id": "acfb343c-1afa-462b-9893-3770f628c774",
   "metadata": {},
   "outputs": [
    {
     "data": {
      "text/html": [
       "<div>\n",
       "<style scoped>\n",
       "    .dataframe tbody tr th:only-of-type {\n",
       "        vertical-align: middle;\n",
       "    }\n",
       "\n",
       "    .dataframe tbody tr th {\n",
       "        vertical-align: top;\n",
       "    }\n",
       "\n",
       "    .dataframe thead th {\n",
       "        text-align: right;\n",
       "    }\n",
       "</style>\n",
       "<table border=\"1\" class=\"dataframe\">\n",
       "  <thead>\n",
       "    <tr style=\"text-align: right;\">\n",
       "      <th></th>\n",
       "      <th>Returns</th>\n",
       "      <th>Variances</th>\n",
       "      <th>stocks</th>\n",
       "      <th>bonds</th>\n",
       "      <th>MM</th>\n",
       "    </tr>\n",
       "  </thead>\n",
       "  <tbody>\n",
       "    <tr>\n",
       "      <th>0</th>\n",
       "      <td>0.065</td>\n",
       "      <td>0.001026</td>\n",
       "      <td>0.02</td>\n",
       "      <td>0.15</td>\n",
       "      <td>0.82</td>\n",
       "    </tr>\n",
       "    <tr>\n",
       "      <th>1</th>\n",
       "      <td>0.070</td>\n",
       "      <td>0.001428</td>\n",
       "      <td>0.13</td>\n",
       "      <td>0.15</td>\n",
       "      <td>0.72</td>\n",
       "    </tr>\n",
       "    <tr>\n",
       "      <th>2</th>\n",
       "      <td>0.075</td>\n",
       "      <td>0.002595</td>\n",
       "      <td>0.23</td>\n",
       "      <td>0.17</td>\n",
       "      <td>0.60</td>\n",
       "    </tr>\n",
       "    <tr>\n",
       "      <th>3</th>\n",
       "      <td>0.080</td>\n",
       "      <td>0.004524</td>\n",
       "      <td>0.34</td>\n",
       "      <td>0.18</td>\n",
       "      <td>0.48</td>\n",
       "    </tr>\n",
       "    <tr>\n",
       "      <th>4</th>\n",
       "      <td>0.085</td>\n",
       "      <td>0.006950</td>\n",
       "      <td>0.45</td>\n",
       "      <td>0.19</td>\n",
       "      <td>0.35</td>\n",
       "    </tr>\n",
       "    <tr>\n",
       "      <th>5</th>\n",
       "      <td>0.090</td>\n",
       "      <td>0.010334</td>\n",
       "      <td>0.57</td>\n",
       "      <td>0.20</td>\n",
       "      <td>0.23</td>\n",
       "    </tr>\n",
       "    <tr>\n",
       "      <th>6</th>\n",
       "      <td>0.095</td>\n",
       "      <td>0.014479</td>\n",
       "      <td>0.69</td>\n",
       "      <td>0.20</td>\n",
       "      <td>0.11</td>\n",
       "    </tr>\n",
       "    <tr>\n",
       "      <th>7</th>\n",
       "      <td>0.100</td>\n",
       "      <td>0.019163</td>\n",
       "      <td>0.78</td>\n",
       "      <td>0.22</td>\n",
       "      <td>-0.00</td>\n",
       "    </tr>\n",
       "    <tr>\n",
       "      <th>8</th>\n",
       "      <td>0.105</td>\n",
       "      <td>0.025118</td>\n",
       "      <td>0.93</td>\n",
       "      <td>0.07</td>\n",
       "      <td>0.00</td>\n",
       "    </tr>\n",
       "  </tbody>\n",
       "</table>\n",
       "</div>"
      ],
      "text/plain": [
       "   Returns  Variances  stocks  bonds    MM\n",
       "0    0.065   0.001026    0.02   0.15  0.82\n",
       "1    0.070   0.001428    0.13   0.15  0.72\n",
       "2    0.075   0.002595    0.23   0.17  0.60\n",
       "3    0.080   0.004524    0.34   0.18  0.48\n",
       "4    0.085   0.006950    0.45   0.19  0.35\n",
       "5    0.090   0.010334    0.57   0.20  0.23\n",
       "6    0.095   0.014479    0.69   0.20  0.11\n",
       "7    0.100   0.019163    0.78   0.22 -0.00\n",
       "8    0.105   0.025118    0.93   0.07  0.00"
      ]
     },
     "execution_count": 25,
     "metadata": {},
     "output_type": "execute_result"
    }
   ],
   "source": [
    "df_results = {'Returns': returns, 'Variances': variances,\n",
    "              'stocks': q[:,0], 'bonds': q[:,1], 'MM': q[:,2]}\n",
    "pd.DataFrame(df_results)"
   ]
  },
  {
   "cell_type": "markdown",
   "id": "45d6e678-102d-46fb-bd87-d3444c63e58d",
   "metadata": {},
   "source": [
    "----"
   ]
  },
  {
   "cell_type": "markdown",
   "id": "7c14df60-297a-463a-857d-00d81dbfe24e",
   "metadata": {},
   "source": [
    "simple example, 2x2 asset (r2 and r3)"
   ]
  },
  {
   "cell_type": "code",
   "execution_count": 26,
   "id": "c54a74d7-8101-4127-8c74-9ec59a4c603f",
   "metadata": {},
   "outputs": [
    {
     "data": {
      "text/html": [
       "<div>\n",
       "<style scoped>\n",
       "    .dataframe tbody tr th:only-of-type {\n",
       "        vertical-align: middle;\n",
       "    }\n",
       "\n",
       "    .dataframe tbody tr th {\n",
       "        vertical-align: top;\n",
       "    }\n",
       "\n",
       "    .dataframe thead th {\n",
       "        text-align: right;\n",
       "    }\n",
       "</style>\n",
       "<table border=\"1\" class=\"dataframe\">\n",
       "  <thead>\n",
       "    <tr style=\"text-align: right;\">\n",
       "      <th></th>\n",
       "      <th>r2</th>\n",
       "      <th>r3</th>\n",
       "    </tr>\n",
       "  </thead>\n",
       "  <tbody>\n",
       "    <tr>\n",
       "      <th>0</th>\n",
       "      <td>0.009847</td>\n",
       "      <td>0.174599</td>\n",
       "    </tr>\n",
       "    <tr>\n",
       "      <th>1</th>\n",
       "      <td>0.024378</td>\n",
       "      <td>-0.009988</td>\n",
       "    </tr>\n",
       "    <tr>\n",
       "      <th>2</th>\n",
       "      <td>-0.000498</td>\n",
       "      <td>-0.007566</td>\n",
       "    </tr>\n",
       "    <tr>\n",
       "      <th>3</th>\n",
       "      <td>-0.045183</td>\n",
       "      <td>0.081067</td>\n",
       "    </tr>\n",
       "    <tr>\n",
       "      <th>4</th>\n",
       "      <td>0.017397</td>\n",
       "      <td>0.031877</td>\n",
       "    </tr>\n",
       "    <tr>\n",
       "      <th>...</th>\n",
       "      <td>...</td>\n",
       "      <td>...</td>\n",
       "    </tr>\n",
       "    <tr>\n",
       "      <th>56</th>\n",
       "      <td>-0.036920</td>\n",
       "      <td>-0.044000</td>\n",
       "    </tr>\n",
       "    <tr>\n",
       "      <th>57</th>\n",
       "      <td>-0.025030</td>\n",
       "      <td>-0.121339</td>\n",
       "    </tr>\n",
       "    <tr>\n",
       "      <th>58</th>\n",
       "      <td>-0.002837</td>\n",
       "      <td>-0.358852</td>\n",
       "    </tr>\n",
       "    <tr>\n",
       "      <th>59</th>\n",
       "      <td>-0.027131</td>\n",
       "      <td>-0.097015</td>\n",
       "    </tr>\n",
       "    <tr>\n",
       "      <th>60</th>\n",
       "      <td>0.025070</td>\n",
       "      <td>-0.380165</td>\n",
       "    </tr>\n",
       "  </tbody>\n",
       "</table>\n",
       "<p>61 rows × 2 columns</p>\n",
       "</div>"
      ],
      "text/plain": [
       "          r2        r3\n",
       "0   0.009847  0.174599\n",
       "1   0.024378 -0.009988\n",
       "2  -0.000498 -0.007566\n",
       "3  -0.045183  0.081067\n",
       "4   0.017397  0.031877\n",
       "..       ...       ...\n",
       "56 -0.036920 -0.044000\n",
       "57 -0.025030 -0.121339\n",
       "58 -0.002837 -0.358852\n",
       "59 -0.027131 -0.097015\n",
       "60  0.025070 -0.380165\n",
       "\n",
       "[61 rows x 2 columns]"
      ]
     },
     "execution_count": 26,
     "metadata": {},
     "output_type": "execute_result"
    }
   ],
   "source": [
    "df2 = pd.read_csv('lab1.csv')\n",
    "df2 = df2.iloc[:,2:4]\n",
    "df2"
   ]
  },
  {
   "cell_type": "code",
   "execution_count": 27,
   "id": "66a62f9e-c912-423e-8525-80c958d3a088",
   "metadata": {},
   "outputs": [],
   "source": [
    "r2 = df2['r2']\n",
    "r3 = df2['r3']\n",
    "var_r2 = r2.var()           #need later to calc var per R \n",
    "var_r3 = r3.var()\n",
    "cor_r2_r3 = (r2.corr(r3))"
   ]
  },
  {
   "cell_type": "markdown",
   "id": "c1ae31d0-820f-483a-a975-c39de1cc1ebc",
   "metadata": {},
   "source": [
    "Calculating rates of returns "
   ]
  },
  {
   "cell_type": "code",
   "execution_count": 28,
   "id": "3f314cd9-c0d4-4062-b6c9-d9cd87de2dc5",
   "metadata": {},
   "outputs": [
    {
     "name": "stdout",
     "output_type": "stream",
     "text": [
      "[-0.01057, -0.00242, -0.11715, -0.00607, 0.00256, -0.04, -0.01042, -0.22144, 0.00279, -0.00796, 0.02267, 0.01101, -0.02653, -0.01094, -0.00624, -0.15289, -0.01258, 0.01374, -0.01396, -0.03568, -0.00699, 0.02007, -0.00825, -0.10114, -0.01926, -0.02345, -0.00231, -0.00835, -0.05288, -0.00559, 0.00532, -0.00773, 0.09107, -0.01051, -0.0927, -0.01953, -0.0224, -0.00553, -0.03527, -0.01827, 0.00572, -0.03396, -0.00237, -0.01011, 0.29067, -0.01572, -0.02205, 0.05123, -0.00646, -0.00262, -0.03208, -0.02818, -0.01603, -0.01945, -0.02201, -0.01224, 0.01758, 0.01957, -0.0073, 0.02919]\n"
     ]
    }
   ],
   "source": [
    "r2_returns = []\n",
    "r3_returns = []\n",
    "for i in range(1,len(df2.index)):\n",
    "    returnsr2 = (r2[i]-r2[i-1])/r2[i-1]\n",
    "    r2_returns.append(round(returnsr2/100,5))\n",
    "        \n",
    "    returnsr3 = (r3[i]-r3[i-1])/r3[i-1]\n",
    "    r3_returns.append(round(returnsr3/100,5))\n",
    "        \n",
    "print(r3_returns)"
   ]
  },
  {
   "cell_type": "markdown",
   "id": "14bd203c-1165-430d-b303-58bca3bea46f",
   "metadata": {},
   "source": [
    "Making a dataframe for rate_returns"
   ]
  },
  {
   "cell_type": "code",
   "execution_count": 29,
   "id": "f7923cc4-05e6-4d3d-84b5-282e9768eeb1",
   "metadata": {},
   "outputs": [],
   "source": [
    "r2_returns[59]=0\n",
    "r3_returns[59]=0\n",
    "df2_results = pd.DataFrame({'r2_returns': (r2_returns), 'r3_returns': (r3_returns)})"
   ]
  },
  {
   "cell_type": "code",
   "execution_count": 30,
   "id": "96d46629-6bd2-414b-8238-b44f87a3d9e5",
   "metadata": {},
   "outputs": [],
   "source": [
    "def geom_mean(n,r2_returns,r3_returns):\n",
    "    geom_mean2 = 1\n",
    "    geom_mean3 = 1\n",
    "      \n",
    "    for i in range(0,n):\n",
    "        geom_mean2 = ((1+r2_returns[i])*geom_mean2)\n",
    "        lols2 = (abs(geom_mean2)**(1/(n)) -1)*100\n",
    "            \n",
    "        geom_mean3 = ((1+r3_returns[i])*geom_mean3)\n",
    "        lols3 = (abs(geom_mean3)**(1/(n)) -1)*100\n",
    "        \n",
    "    return(round(lols2,5),round(lols3,5))"
   ]
  },
  {
   "cell_type": "code",
   "execution_count": 31,
   "id": "5169b1ee-6466-4dcf-8a85-c404be86d63b",
   "metadata": {},
   "outputs": [
    {
     "data": {
      "text/plain": [
       "(1.35891, -1.51546)"
      ]
     },
     "execution_count": 31,
     "metadata": {},
     "output_type": "execute_result"
    }
   ],
   "source": [
    "n=59\n",
    "geom_mean(n,r2_returns,r3_returns)"
   ]
  },
  {
   "cell_type": "code",
   "execution_count": 32,
   "id": "52e0298a-d0d7-4466-92fe-702ba8a9e1ee",
   "metadata": {},
   "outputs": [
    {
     "data": {
      "text/html": [
       "<div>\n",
       "<style scoped>\n",
       "    .dataframe tbody tr th:only-of-type {\n",
       "        vertical-align: middle;\n",
       "    }\n",
       "\n",
       "    .dataframe tbody tr th {\n",
       "        vertical-align: top;\n",
       "    }\n",
       "\n",
       "    .dataframe thead th {\n",
       "        text-align: right;\n",
       "    }\n",
       "</style>\n",
       "<table border=\"1\" class=\"dataframe\">\n",
       "  <thead>\n",
       "    <tr style=\"text-align: right;\">\n",
       "      <th></th>\n",
       "      <th>r2_returns</th>\n",
       "      <th>r3_returns</th>\n",
       "    </tr>\n",
       "  </thead>\n",
       "  <tbody>\n",
       "    <tr>\n",
       "      <th>r2_returns</th>\n",
       "      <td>0.07575</td>\n",
       "      <td>-0.00114</td>\n",
       "    </tr>\n",
       "    <tr>\n",
       "      <th>r3_returns</th>\n",
       "      <td>-0.00114</td>\n",
       "      <td>0.00353</td>\n",
       "    </tr>\n",
       "  </tbody>\n",
       "</table>\n",
       "</div>"
      ],
      "text/plain": [
       "            r2_returns  r3_returns\n",
       "r2_returns     0.07575    -0.00114\n",
       "r3_returns    -0.00114     0.00353"
      ]
     },
     "execution_count": 32,
     "metadata": {},
     "output_type": "execute_result"
    }
   ],
   "source": [
    "covariance = df2_results.iloc[:,0:2].cov()\n",
    "round(covariance,5)"
   ]
  },
  {
   "cell_type": "code",
   "execution_count": 33,
   "id": "7f0c8bb3-461b-4e64-9d1a-585a27f3f272",
   "metadata": {},
   "outputs": [
    {
     "name": "stdout",
     "output_type": "stream",
     "text": [
      "QP solution: x = [0.18 0.82]\n",
      "QP solution: x = [0.27 0.73]\n",
      "QP solution: x = [0.35 0.65]\n",
      "QP solution: x = [0.44 0.56]\n",
      "QP solution: x = [0.53 0.47]\n",
      "QP solution: x = [0.61 0.39]\n",
      "QP solution: x = [0.7 0.3]\n",
      "QP solution: x = [0.79 0.21]\n",
      "QP solution: x = [0.88 0.12]\n",
      "QP solution: x = [0.96 0.04]\n"
     ]
    },
    {
     "name": "stderr",
     "output_type": "stream",
     "text": [
      "/opt/conda/lib/python3.10/site-packages/qpsolvers/solvers/conversions/warnings.py:35: UserWarning: Converted P to scipy.sparse.csc.csc_matrix\n",
      "For best performance, build P as a scipy.sparse.csc_matrix rather than as a numpy.ndarray\n",
      "  warn(\n",
      "/opt/conda/lib/python3.10/site-packages/qpsolvers/solvers/conversions/warnings.py:35: UserWarning: Converted A to scipy.sparse.csc.csc_matrix\n",
      "For best performance, build A as a scipy.sparse.csc_matrix rather than as a numpy.ndarray\n",
      "  warn(\n"
     ]
    }
   ],
   "source": [
    "for R in np.arange(-0.010,0.0140,0.0025):\n",
    "    P = np.array([[0.07575,-0.00114],\n",
    "                  [-0.00114,0.00353]])\n",
    "    q = np.array([[0,0],[0,0]])\n",
    "    G = np.array([0.0135891,-0.0151546])\n",
    "    h = np.array([R])\n",
    "    A = np.array([1.,1.])\n",
    "    b = np.array([1.])\n",
    "    lb = np.array([0.,0.])\n",
    "    x = (solve_qp(P, q, -G, -h, A, b, lb, solver=\"osqp\").round(2))\n",
    "    print(\"QP solution: x = {}\".format(x))"
   ]
  },
  {
   "cell_type": "markdown",
   "id": "dc725bdb-2788-40d1-ba40-313cf851e2b6",
   "metadata": {},
   "source": [
    "------"
   ]
  },
  {
   "cell_type": "markdown",
   "id": "3ddc9b0b-a2cd-4f7a-be8f-362b569003d0",
   "metadata": {},
   "source": [
    "[link for trying to make 2 functions in one](https://stackoverflow.com/questions/10139866/calling-variable-defined-inside-one-function-from-another-function)"
   ]
  },
  {
   "cell_type": "code",
   "execution_count": 34,
   "id": "abcf45f0-b53e-4bce-ad7b-baad45802e2f",
   "metadata": {},
   "outputs": [],
   "source": [
    "#tried function inside of a function to get the geom mean directly from rate of returns \n",
    "def geom_mean(n,r1_returns,r2_returns):\n",
    "    geom_mean1 = 1\n",
    "    geom_mean2 = 1\n",
    "    r1_returns = []\n",
    "    r2_returns = []  \n",
    "    \n",
    "    for i in range(0,n+1):\n",
    "        geom_mean1 = ((1+r1_returns[i])*geom_mean1)\n",
    "        lols1 = (abs(geom_mean1)**(1/(n+1)) -1)*100\n",
    "            \n",
    "        geom_mean2 = ((1+r2_returns[i])*geom_mean2)\n",
    "        lols2 = (abs(geom_mean2)**(1/(n+1)) -1)*100\n",
    "        \n",
    "    return(lols1,lols2)\n",
    "    \n",
    "    def lolipop(n,r1,r2):\n",
    "        \n",
    "        for i in range(1,n+1):\n",
    "            returnsr1 = round((r1[i]-r1[i-1])/r1[i-1],5)\n",
    "            r1_returns.append(returnsr1)\n",
    "            \n",
    "            returnsr2 = round((r2[i]-r2[i-1])/r2[i-1],5)\n",
    "            r2_returns.append(returnsr2)  \n",
    "            \n",
    "        return(r1_returns,r2_returns)"
   ]
  },
  {
   "cell_type": "markdown",
   "id": "afb51527-bcad-4254-ad4d-661542fe90ed",
   "metadata": {},
   "source": [
    "----"
   ]
  },
  {
   "cell_type": "markdown",
   "id": "72ff16aa-f92e-479d-a51a-908b804ee94b",
   "metadata": {},
   "source": [
    "simple example, 3x3 assets (r4,r5,r6)"
   ]
  },
  {
   "cell_type": "code",
   "execution_count": 35,
   "id": "89d1b928-410a-4f49-9514-589be53dfaf5",
   "metadata": {},
   "outputs": [
    {
     "data": {
      "text/html": [
       "<div>\n",
       "<style scoped>\n",
       "    .dataframe tbody tr th:only-of-type {\n",
       "        vertical-align: middle;\n",
       "    }\n",
       "\n",
       "    .dataframe tbody tr th {\n",
       "        vertical-align: top;\n",
       "    }\n",
       "\n",
       "    .dataframe thead th {\n",
       "        text-align: right;\n",
       "    }\n",
       "</style>\n",
       "<table border=\"1\" class=\"dataframe\">\n",
       "  <thead>\n",
       "    <tr style=\"text-align: right;\">\n",
       "      <th></th>\n",
       "      <th>r4</th>\n",
       "      <th>r5</th>\n",
       "      <th>r6</th>\n",
       "    </tr>\n",
       "  </thead>\n",
       "  <tbody>\n",
       "    <tr>\n",
       "      <th>0</th>\n",
       "      <td>0.029484</td>\n",
       "      <td>0.039796</td>\n",
       "      <td>0.028723</td>\n",
       "    </tr>\n",
       "    <tr>\n",
       "      <th>1</th>\n",
       "      <td>0.149165</td>\n",
       "      <td>0.043271</td>\n",
       "      <td>-0.005918</td>\n",
       "    </tr>\n",
       "    <tr>\n",
       "      <th>2</th>\n",
       "      <td>0.026999</td>\n",
       "      <td>0.063560</td>\n",
       "      <td>0.117917</td>\n",
       "    </tr>\n",
       "    <tr>\n",
       "      <th>3</th>\n",
       "      <td>0.122346</td>\n",
       "      <td>0.124968</td>\n",
       "      <td>0.017808</td>\n",
       "    </tr>\n",
       "    <tr>\n",
       "      <th>4</th>\n",
       "      <td>0.098198</td>\n",
       "      <td>0.006764</td>\n",
       "      <td>-0.020660</td>\n",
       "    </tr>\n",
       "    <tr>\n",
       "      <th>...</th>\n",
       "      <td>...</td>\n",
       "      <td>...</td>\n",
       "      <td>...</td>\n",
       "    </tr>\n",
       "    <tr>\n",
       "      <th>56</th>\n",
       "      <td>0.073609</td>\n",
       "      <td>-0.042654</td>\n",
       "      <td>-0.081381</td>\n",
       "    </tr>\n",
       "    <tr>\n",
       "      <th>57</th>\n",
       "      <td>0.059603</td>\n",
       "      <td>-0.110735</td>\n",
       "      <td>0.050000</td>\n",
       "    </tr>\n",
       "    <tr>\n",
       "      <th>58</th>\n",
       "      <td>-0.125368</td>\n",
       "      <td>-0.058407</td>\n",
       "      <td>-0.023701</td>\n",
       "    </tr>\n",
       "    <tr>\n",
       "      <th>59</th>\n",
       "      <td>-0.155107</td>\n",
       "      <td>-0.071115</td>\n",
       "      <td>-0.022222</td>\n",
       "    </tr>\n",
       "    <tr>\n",
       "      <th>60</th>\n",
       "      <td>-0.208458</td>\n",
       "      <td>-0.115683</td>\n",
       "      <td>0.009545</td>\n",
       "    </tr>\n",
       "  </tbody>\n",
       "</table>\n",
       "<p>61 rows × 3 columns</p>\n",
       "</div>"
      ],
      "text/plain": [
       "          r4        r5        r6\n",
       "0   0.029484  0.039796  0.028723\n",
       "1   0.149165  0.043271 -0.005918\n",
       "2   0.026999  0.063560  0.117917\n",
       "3   0.122346  0.124968  0.017808\n",
       "4   0.098198  0.006764 -0.020660\n",
       "..       ...       ...       ...\n",
       "56  0.073609 -0.042654 -0.081381\n",
       "57  0.059603 -0.110735  0.050000\n",
       "58 -0.125368 -0.058407 -0.023701\n",
       "59 -0.155107 -0.071115 -0.022222\n",
       "60 -0.208458 -0.115683  0.009545\n",
       "\n",
       "[61 rows x 3 columns]"
      ]
     },
     "execution_count": 35,
     "metadata": {},
     "output_type": "execute_result"
    }
   ],
   "source": [
    "df3 = pd.read_csv('lab1.csv')\n",
    "df3 = df3.iloc[:,4:7]\n",
    "df3"
   ]
  },
  {
   "cell_type": "code",
   "execution_count": 36,
   "id": "9b014991-1c12-442b-9e60-50db91a3bb69",
   "metadata": {},
   "outputs": [],
   "source": [
    "r4 = df3['r4']\n",
    "r5 = df3['r5']\n",
    "r6 = df3['r6']\n",
    "var_r4 = r4.var()           #need later to calc var per R \n",
    "var_r5 = r5.var()\n",
    "var_r6 = r6.var()\n",
    "cor_r4_r5 = (r4.corr(r5))\n",
    "cor_r4_r6 = (r4.corr(r6))\n",
    "cor_r5_r6 = (r5.corr(r6))"
   ]
  },
  {
   "cell_type": "code",
   "execution_count": 37,
   "id": "aa1b80af-c0b4-49c6-b063-a7ff49f16595",
   "metadata": {},
   "outputs": [],
   "source": [
    "r4_returns = []\n",
    "r5_returns = []\n",
    "r6_returns = []\n",
    "\n",
    "for i in range(1,len(df3.index)):\n",
    "    returnsr4 = (r4[i]-r4[i-1])/r4[i-1]\n",
    "    r4_returns.append(round(returnsr4/100,5))\n",
    "        \n",
    "    returnsr5 = (r5[i]-r5[i-1])/r5[i-1]\n",
    "    r5_returns.append(round(returnsr5/100,5))\n",
    "    \n",
    "    returnsr6 = (r6[i]-r6[i-1])/r6[i-1]\n",
    "    r6_returns.append(round(returnsr6/100,5))"
   ]
  },
  {
   "cell_type": "code",
   "execution_count": 38,
   "id": "ddca8378-8c86-40e4-8a79-62e19d724eb0",
   "metadata": {},
   "outputs": [],
   "source": [
    "r4_returns[59]=0\n",
    "r5_returns[59]=0\n",
    "r6_returns[59]=0\n",
    "\n",
    "df3_results = pd.DataFrame({'r4_returns': (r4_returns), 'r5_returns': (r5_returns), 'r6_returns': (r6_returns)})"
   ]
  },
  {
   "cell_type": "code",
   "execution_count": 39,
   "id": "af0d3574-a288-4490-9f79-ee6aac55ae87",
   "metadata": {},
   "outputs": [],
   "source": [
    "def geom_mean(n,r4_returns,r5_returns,r6_returns):\n",
    "    geom_mean4 = 1\n",
    "    geom_mean5 = 1\n",
    "    geom_mean6 = 1\n",
    "      \n",
    "    for i in range(0,n):\n",
    "        geom_mean4 = ((1+r4_returns[i])*geom_mean4)\n",
    "        lols4 = (abs(geom_mean4)**(1/(n)) -1)*100\n",
    "            \n",
    "        geom_mean5 = ((1+r5_returns[i])*geom_mean5)\n",
    "        lols5 = (abs(geom_mean5)**(1/(n)) -1)*100\n",
    "        \n",
    "        geom_mean6 = ((1+r6_returns[i])*geom_mean6)\n",
    "        lols6 = (abs(geom_mean6)**(1/(n)) -1)*100\n",
    "        \n",
    "    return(round(lols4,5),round(lols5,5),round(lols6,5))"
   ]
  },
  {
   "cell_type": "code",
   "execution_count": 40,
   "id": "7668810b-db06-48d1-ac10-cb1f9c14d62c",
   "metadata": {},
   "outputs": [
    {
     "data": {
      "text/plain": [
       "(-2.63367, 0.48831, 3.24067)"
      ]
     },
     "execution_count": 40,
     "metadata": {},
     "output_type": "execute_result"
    }
   ],
   "source": [
    "n=59\n",
    "geom_mean(n,r4_returns,r5_returns,r6_returns)"
   ]
  },
  {
   "cell_type": "code",
   "execution_count": 41,
   "id": "32360f46-675a-4655-9a90-7a3131177f21",
   "metadata": {},
   "outputs": [
    {
     "data": {
      "text/html": [
       "<div>\n",
       "<style scoped>\n",
       "    .dataframe tbody tr th:only-of-type {\n",
       "        vertical-align: middle;\n",
       "    }\n",
       "\n",
       "    .dataframe tbody tr th {\n",
       "        vertical-align: top;\n",
       "    }\n",
       "\n",
       "    .dataframe thead th {\n",
       "        text-align: right;\n",
       "    }\n",
       "</style>\n",
       "<table border=\"1\" class=\"dataframe\">\n",
       "  <thead>\n",
       "    <tr style=\"text-align: right;\">\n",
       "      <th></th>\n",
       "      <th>r4_returns</th>\n",
       "      <th>r5_returns</th>\n",
       "      <th>r6_returns</th>\n",
       "    </tr>\n",
       "  </thead>\n",
       "  <tbody>\n",
       "    <tr>\n",
       "      <th>r4_returns</th>\n",
       "      <td>0.00747</td>\n",
       "      <td>-0.00039</td>\n",
       "      <td>0.00089</td>\n",
       "    </tr>\n",
       "    <tr>\n",
       "      <th>r5_returns</th>\n",
       "      <td>-0.00039</td>\n",
       "      <td>0.01006</td>\n",
       "      <td>0.00565</td>\n",
       "    </tr>\n",
       "    <tr>\n",
       "      <th>r6_returns</th>\n",
       "      <td>0.00089</td>\n",
       "      <td>0.00565</td>\n",
       "      <td>2.88722</td>\n",
       "    </tr>\n",
       "  </tbody>\n",
       "</table>\n",
       "</div>"
      ],
      "text/plain": [
       "            r4_returns  r5_returns  r6_returns\n",
       "r4_returns     0.00747    -0.00039     0.00089\n",
       "r5_returns    -0.00039     0.01006     0.00565\n",
       "r6_returns     0.00089     0.00565     2.88722"
      ]
     },
     "execution_count": 41,
     "metadata": {},
     "output_type": "execute_result"
    }
   ],
   "source": [
    "covariance = df3_results.iloc[:,0:3].cov()\n",
    "round(covariance,5)"
   ]
  },
  {
   "cell_type": "code",
   "execution_count": 42,
   "id": "ba276a46-f500-43fe-aecf-5e0eca3a8cdf",
   "metadata": {},
   "outputs": [
    {
     "name": "stdout",
     "output_type": "stream",
     "text": [
      "QP solution: x = [0.53 0.47 0.  ]\n",
      "QP solution: x = [0.53 0.47 0.  ]\n",
      "QP solution: x = [0.53 0.47 0.  ]\n",
      "QP solution: x = [0.51 0.49 0.  ]\n",
      "QP solution: x = [0.35 0.65 0.  ]\n",
      "QP solution: x = [0.19 0.81 0.  ]\n",
      "QP solution: x = [0.03 0.96 0.  ]\n",
      "QP solution: x = [-0.    0.85  0.15]\n",
      "QP solution: x = [-0.    0.67  0.33]\n",
      "QP solution: x = [-0.    0.49  0.51]\n",
      "QP solution: x = [-0.    0.31  0.69]\n",
      "QP solution: x = [0.   0.12 0.88]\n"
     ]
    },
    {
     "name": "stderr",
     "output_type": "stream",
     "text": [
      "/opt/conda/lib/python3.10/site-packages/qpsolvers/solvers/conversions/warnings.py:35: UserWarning: Converted P to scipy.sparse.csc.csc_matrix\n",
      "For best performance, build P as a scipy.sparse.csc_matrix rather than as a numpy.ndarray\n",
      "  warn(\n",
      "/opt/conda/lib/python3.10/site-packages/qpsolvers/solvers/conversions/warnings.py:35: UserWarning: Converted A to scipy.sparse.csc.csc_matrix\n",
      "For best performance, build A as a scipy.sparse.csc_matrix rather than as a numpy.ndarray\n",
      "  warn(\n"
     ]
    }
   ],
   "source": [
    "for R in np.arange(-0.0260,0.0325,0.0050):\n",
    "    P = np.array([[0.00747,-0.00039,0.00089],\n",
    "                  [-0.00039,0.01006,0.00565],\n",
    "                  [0.00089,0.00565,2.88722]])\n",
    "    q = np.array([[0,0,0],[0,0,0],[0,0,0]])\n",
    "    G = np.array([-0.0263367,0.0048831,0.0324067])\n",
    "    h = np.array([R])\n",
    "    A = np.array([1.,1.,1.])\n",
    "    b = np.array([1.])\n",
    "    lb = np.array([0.,0.,0.])\n",
    "    x = (solve_qp(P, q, -G, -h, A, b, lb, solver=\"osqp\").round(2))\n",
    "    print(\"QP solution: x = {}\".format(x))"
   ]
  },
  {
   "cell_type": "code",
   "execution_count": 120,
   "id": "5c533171-d88b-4b14-97de-d484e6ea3192",
   "metadata": {},
   "outputs": [],
   "source": [
    "def geom_mean(n,r4_returns,r5_returns,r6_returns):\n",
    "    geom_mean4 = 1\n",
    "    geom_mean5 = 1\n",
    "    geom_mean6 = 1\n",
    "    \n",
    "    arr = []\n",
    "      \n",
    "    for i in range(0,n):\n",
    "        geom_mean4 = ((1+r4_returns[i])*geom_mean4)\n",
    "        lols4 = (abs(geom_mean4)**(1/(n)) -1)*100\n",
    "        \n",
    "        geom_mean5 = ((1+r5_returns[i])*geom_mean5)\n",
    "        lols5 = (abs(geom_mean5)**(1/(n)) -1)*100\n",
    "        \n",
    "        geom_mean6 = ((1+r6_returns[i])*geom_mean6)\n",
    "        lols6 = (abs(geom_mean6)**(1/(n)) -1)*100\n",
    "    \n",
    "    arr.append(round(lols4, 5)/100)\n",
    "    arr.append(round(lols5, 5)/100)\n",
    "    arr.append(round(lols6, 5)/100)\n",
    "        \n",
    "    return arr\n"
   ]
  },
  {
   "cell_type": "code",
   "execution_count": 135,
   "id": "42174866-3a64-4f65-bfc8-c327e524148c",
   "metadata": {},
   "outputs": [],
   "source": [
    "def mean():\n",
    "    arr = []\n",
    "    returns = df3_results.iloc[:,0:3]\n",
    "    n = len(returns) -1 \n",
    "    numOfReturns = len(returns.columns)\n",
    "    for j in range(0, numOfReturns):\n",
    "        geom_mean = 1\n",
    "        for i in range(0,n):\n",
    "            geom_mean = ((1+returns.iloc[i][j])*geom_mean)\n",
    "            lol = (abs(geom_mean)**(1/(n)) -1)*100\n",
    "        arr.append(round(lol, 5)/100)\n",
    "    return arr\n"
   ]
  },
  {
   "cell_type": "code",
   "execution_count": 142,
   "id": "8b1babb2-d613-4150-a3f4-9d5fd8022781",
   "metadata": {},
   "outputs": [],
   "source": [
    "def solver():\n",
    "    solutions = list()\n",
    "    for R in np.arange(-0.0260,0.0325,0.0050):\n",
    "        P = np.array(covariance)\n",
    "        G = np.array(mean())\n",
    "        h = np.array([R])\n",
    "        A = np.array([1]*len(covariance))\n",
    "        b = np.array([1.])\n",
    "        lb = np.array([0]*len(covariance))\n",
    "        x = (solve_qp(P, q, -G, -h, A, b, lb, solver=\"osqp\").round(2))\n",
    "        # solutions.append(\"QP solution: x = {}\".format(x))\n",
    "        solutions.append(x)\n",
    "    return solutions"
   ]
  },
  {
   "cell_type": "code",
   "execution_count": 141,
   "id": "2fcca9ca-6c01-46ed-9509-b906ad19999a",
   "metadata": {},
   "outputs": [
    {
     "name": "stdout",
     "output_type": "stream",
     "text": [
      "[array([0.53, 0.47, 0.  ]), array([0.53, 0.47, 0.  ]), array([0.53, 0.47, 0.  ]), array([0.51, 0.49, 0.  ]), array([0.35, 0.65, 0.  ]), array([0.19, 0.81, 0.  ]), array([0.03, 0.96, 0.  ]), array([-0.  ,  0.85,  0.15]), array([-0.  ,  0.67,  0.33]), array([-0.  ,  0.49,  0.51]), array([-0.  ,  0.31,  0.69]), array([0.  , 0.12, 0.88])]\n"
     ]
    }
   ],
   "source": [
    "print(solver())"
   ]
  }
 ],
 "metadata": {
  "kernelspec": {
   "display_name": "Python 3 (ipykernel)",
   "language": "python",
   "name": "python3"
  },
  "language_info": {
   "codemirror_mode": {
    "name": "ipython",
    "version": 3
   },
   "file_extension": ".py",
   "mimetype": "text/x-python",
   "name": "python",
   "nbconvert_exporter": "python",
   "pygments_lexer": "ipython3",
   "version": "3.10.6"
  }
 },
 "nbformat": 4,
 "nbformat_minor": 5
}
